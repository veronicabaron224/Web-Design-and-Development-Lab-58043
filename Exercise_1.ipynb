{
  "nbformat": 4,
  "nbformat_minor": 0,
  "metadata": {
    "colab": {
      "name": "Exercise 1",
      "provenance": [],
      "authorship_tag": "ABX9TyPkL6iqNFLd4m+rLg/dQGDg",
      "include_colab_link": true
    },
    "kernelspec": {
      "name": "python3",
      "display_name": "Python 3"
    },
    "language_info": {
      "name": "python"
    }
  },
  "cells": [
    {
      "cell_type": "markdown",
      "metadata": {
        "id": "view-in-github",
        "colab_type": "text"
      },
      "source": [
        "<a href=\"https://colab.research.google.com/github/veronicabaron224/Web-Design-and-Development-Lab-58043/blob/main/Exercise_1.ipynb\" target=\"_parent\"><img src=\"https://colab.research.google.com/assets/colab-badge.svg\" alt=\"Open In Colab\"/></a>"
      ]
    },
    {
      "cell_type": "markdown",
      "source": [
        "Create a Python program that computes the area of a circle"
      ],
      "metadata": {
        "id": "W9CFwRXtlGYW"
      }
    },
    {
      "cell_type": "code",
      "execution_count": 11,
      "metadata": {
        "id": "zL9k1dMqPoTV",
        "colab": {
          "base_uri": "https://localhost:8080/"
        },
        "outputId": "496e65ca-84e4-4822-a44c-0d96207e3663"
      },
      "outputs": [
        {
          "output_type": "stream",
          "name": "stdout",
          "text": [
            "Solve using radius or diameter? [r/d]: d\n",
            "Enter a diameter: 4\n",
            "Area of a Circle:  12.56637061436\n"
          ]
        }
      ],
      "source": [
        "pi = 3.14159265359\n",
        "choice = str(input(\"Solve using radius or diameter? [r/d]: \"))\n",
        "\n",
        "if choice == 'r':\n",
        "    r = float(input(\"Enter a radius: \"))\n",
        "    area = pi*r*r\n",
        "elif choice == 'd':\n",
        "    d = float(input(\"Enter a diameter: \"))\n",
        "    area = (pi*d*d)/4\n",
        "else:\n",
        "    print(\"Error. Try again.\")\n",
        "\n",
        "print(\"Area of a Circle: \", area)"
      ]
    }
  ]
}