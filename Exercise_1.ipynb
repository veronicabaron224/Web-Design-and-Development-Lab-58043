{
  "nbformat": 4,
  "nbformat_minor": 0,
  "metadata": {
    "colab": {
      "name": "Exercise 1",
      "provenance": [],
      "authorship_tag": "ABX9TyNFiDKopeG6wMJvfqG0urmR",
      "include_colab_link": true
    },
    "kernelspec": {
      "name": "python3",
      "display_name": "Python 3"
    },
    "language_info": {
      "name": "python"
    }
  },
  "cells": [
    {
      "cell_type": "markdown",
      "metadata": {
        "id": "view-in-github",
        "colab_type": "text"
      },
      "source": [
        "<a href=\"https://colab.research.google.com/github/veronicabaron224/Web-Design-and-Development-Lab-58043/blob/main/Exercise_1.ipynb\" target=\"_parent\"><img src=\"https://colab.research.google.com/assets/colab-badge.svg\" alt=\"Open In Colab\"/></a>"
      ]
    },
    {
      "cell_type": "markdown",
      "source": [
        "Create a Python program that computes the area of a circle"
      ],
      "metadata": {
        "id": "W9CFwRXtlGYW"
      }
    },
    {
      "cell_type": "code",
      "execution_count": 2,
      "metadata": {
        "id": "zL9k1dMqPoTV",
        "colab": {
          "base_uri": "https://localhost:8080/"
        },
        "outputId": "88628c72-b339-4277-e95b-2cf541d37680"
      },
      "outputs": [
        {
          "output_type": "stream",
          "name": "stdout",
          "text": [
            "Enter a radius: 2\n",
            "Area of a Circle:  12.56637061436\n"
          ]
        }
      ],
      "source": [
        "pi = 3.14159265359\n",
        "r = float(input(\"Enter a radius: \"))\n",
        "area = pi*r*r\n",
        "print(\"Area of a Circle: \", area)"
      ]
    }
  ]
}